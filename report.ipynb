{
 "cells": [
  {
   "cell_type": "markdown",
   "metadata": {},
   "source": [
    "<p style=\"text-align:right; font-weight:bold\">Мартиросян Елизавета</p>"
   ]
  },
  {
   "cell_type": "code",
   "execution_count": null,
   "metadata": {},
   "outputs": [],
   "source": [
    "from selenium import webdriver\n",
    "from selenium.webdriver.common.desired_capabilities import DesiredCapabilities\n",
    "from selenium.webdriver.common.keys import Keys\n",
    "\n",
    "import numpy as np\n",
    "import urllib.request\n",
    "import json\n",
    "import time\n",
    "\n",
    "API_KEY = 'YlF2rEOkdoIdWhCGHBa30FqlUs143ra9'"
   ]
  },
  {
   "cell_type": "markdown",
   "metadata": {},
   "source": [
    "# Лабораторная работа #1 <br>"
   ]
  },
  {
   "cell_type": "markdown",
   "metadata": {},
   "source": [
    "Получаем данные о статьях через api (The New York Times):"
   ]
  },
  {
   "cell_type": "code",
   "execution_count": null,
   "metadata": {},
   "outputs": [],
   "source": [
    "articles = {}\n",
    "dates = [ (2020, 9), (2020, 10), (2020, 11), (2020, 12), (2021, 1) ]\n",
    "\n",
    "for date in dates:\n",
    "    url = 'https://api.nytimes.com/svc/archive/v1/' + str(date[0]) + '/' + str(date[1]) +'.json?api-key='\n",
    "    with urllib.request.urlopen(url + API_KEY) as data:\n",
    "        articles[date] = json.loads(data.read().decode('utf-8'))"
   ]
  },
  {
   "cell_type": "markdown",
   "metadata": {},
   "source": [
    "Имеем всю информацию о статьях - теги, заголовки, ссылки, категории (из ссылок): "
   ]
  },
  {
   "cell_type": "code",
   "execution_count": null,
   "metadata": {
    "scrolled": false
   },
   "outputs": [
    {
     "data": {
      "text/plain": [
       "({'main': 'Facebook Could Block Sharing of News Stories in Australia',\n",
       "  'kicker': None,\n",
       "  'content_kicker': None,\n",
       "  'print_headline': 'Facebook and Google Chafe As Australia Weighs Curbs',\n",
       "  'name': None,\n",
       "  'seo': None,\n",
       "  'sub': None},\n",
       " 'https://www.nytimes.com/2020/08/31/technology/facebook-block-news-stories-australia.html',\n",
       " [{'name': 'glocations', 'value': 'Australia', 'rank': 1, 'major': 'N'},\n",
       "  {'name': 'subject',\n",
       "   'value': 'Computers and the Internet',\n",
       "   'rank': 2,\n",
       "   'major': 'N'},\n",
       "  {'name': 'subject', 'value': 'News and News Media', 'rank': 3, 'major': 'N'},\n",
       "  {'name': 'subject', 'value': 'Social Media', 'rank': 4, 'major': 'N'},\n",
       "  {'name': 'subject',\n",
       "   'value': 'Regulation and Deregulation of Industry',\n",
       "   'rank': 5,\n",
       "   'major': 'N'},\n",
       "  {'name': 'organizations', 'value': 'Facebook Inc', 'rank': 6, 'major': 'N'},\n",
       "  {'name': 'organizations', 'value': 'Google Inc', 'rank': 7, 'major': 'N'},\n",
       "  {'name': 'subject',\n",
       "   'value': 'Rumors and Misinformation',\n",
       "   'rank': 8,\n",
       "   'major': 'N'},\n",
       "  {'name': 'subject', 'value': 'Search Engines', 'rank': 9, 'major': 'N'},\n",
       "  {'name': 'subject',\n",
       "   'value': 'Law and Legislation',\n",
       "   'rank': 10,\n",
       "   'major': 'N'}])"
      ]
     },
     "execution_count": null,
     "metadata": {},
     "output_type": "execute_result"
    }
   ],
   "source": [
    "article = articles[(2020,9)]['response']['docs'][0]\n",
    "article['headline'], article['web_url'], article['keywords']"
   ]
  },
  {
   "cell_type": "markdown",
   "metadata": {},
   "source": [
    "Посчитаем кол-во статьей в каждой категории (для категории us буду брать подкатегории, потому что слишком большая, при этом некоторые статьи не будут обработаны, но это не страшно так как кол-во статей большое; возможно из ссылок будет извлечено не то - имя_статьи.html, даты - тоже не проблема, так как в каждую реальную категорию попадут только те статьи, которые действительно принадлежат этим категориям):"
   ]
  },
  {
   "cell_type": "code",
   "execution_count": null,
   "metadata": {},
   "outputs": [
    {
     "name": "stdout",
     "output_type": "stream",
     "text": [
      "Кол-во необработанных статей: 101\n"
     ]
    }
   ],
   "source": [
    "categories = {}\n",
    "failed = 0\n",
    "\n",
    "for date in dates:\n",
    "    for article in articles[date]['response']['docs']:\n",
    "        try:\n",
    "            category = article['web_url'].split('/')[6] \n",
    "            if category == 'us':\n",
    "                category = article['web_url'].split('/')[7]\n",
    "            if category not in categories:\n",
    "                categories[category] = []\n",
    "            categories[category].append(article)\n",
    "        except:\n",
    "            failed += 1\n",
    "print('Кол-во необработанных статей:', failed)"
   ]
  },
  {
   "cell_type": "code",
   "execution_count": null,
   "metadata": {},
   "outputs": [
    {
     "name": "stdout",
     "output_type": "stream",
     "text": [
      "politics : 2105\n",
      "world : 2081\n",
      "opinion : 1601\n",
      "03 : 1537\n",
      "business : 1294\n",
      "arts : 1197\n",
      "sports : 1057\n",
      "nyregion : 717\n",
      "books : 694\n",
      "elections : 594\n"
     ]
    }
   ],
   "source": [
    "sorted_categories = sorted(categories.items(), key=lambda x: len(x[1]), reverse=True)\n",
    "for category in sorted_categories[:10]:\n",
    "    print(category[0] + ' : ' + str(len(category[1])))"
   ]
  },
  {
   "cell_type": "markdown",
   "metadata": {},
   "source": [
    "Выбираем эти 4 категории:"
   ]
  },
  {
   "cell_type": "code",
   "execution_count": null,
   "metadata": {},
   "outputs": [],
   "source": [
    "selected_categories = ['arts', 'sports', 'business', 'politics']"
   ]
  },
  {
   "cell_type": "markdown",
   "metadata": {},
   "source": [
    "## Скачивание содержания статей через selenium"
   ]
  },
  {
   "cell_type": "code",
   "execution_count": null,
   "metadata": {},
   "outputs": [],
   "source": [
    "downloaded_articles = []"
   ]
  },
  {
   "cell_type": "code",
   "execution_count": null,
   "metadata": {
    "scrolled": true
   },
   "outputs": [],
   "source": [
    "firefox_capabilities = DesiredCapabilities.FIREFOX\n",
    "firefox_capabilities['binary'] = '/home/zile/Загрузки/geckodriver'\n",
    "driver = webdriver.Remote(\n",
    "   command_executor='http://127.0.0.1:4444/wd/hub',\n",
    "   desired_capabilities=firefox_capabilities)\n",
    "\n",
    "driver.get('https://www.nytimes.com')\n",
    "driver.find_element_by_xpath('//button[@data-testid=\"login-button\"]').click()\n",
    "driver.find_element_by_id('js-google-oauth-login').click()\n",
    "\n",
    "time.sleep(30) # чтобы зайти в аккаунт \n",
    "\n",
    "for category in selected_categories:\n",
    "    category_articles = categories[category]\n",
    "    number_suitable_articles, i = 0, 0\n",
    "    \n",
    "    while number_suitable_articles < 1100 and i < len(category_articles):\n",
    "        driver.get(category_articles[i]['web_url'])\n",
    "        text_blocks = driver.find_elements_by_class_name('css-axufdj')\n",
    "        article_body = ''\n",
    "        for block in text_blocks:\n",
    "            article_body += block.text + \" \"\n",
    "        article = category_articles[i]\n",
    "        article['category'] = category\n",
    "        article['text'] = article_body\n",
    "        if len(article_body) > 500:\n",
    "            number_suitable_articles += 1\n",
    "            downloaded_articles.append(article)\n",
    "        i += 1"
   ]
  },
  {
   "cell_type": "markdown",
   "metadata": {},
   "source": [
    "Так как при скачивание могли возникнуть какие-либо проблемы, сделаем отбор статей: сравниваем 'word_count' c кол-вом слов в наших скаченных статьях, значение 'word_count' берет в расчет подписи под фотографиями и abstract + кол-во слов в скаченном тексте у нас будет подсчитано грубо, поэтому возьмем только те статьи, для которых эти значения отличны не более чем на 100:"
   ]
  },
  {
   "cell_type": "code",
   "execution_count": null,
   "metadata": {},
   "outputs": [
    {
     "name": "stdout",
     "output_type": "stream",
     "text": [
      "{'arts': 1005, 'sports': 1018, 'business': 1023, 'politics': 1039}\n"
     ]
    }
   ],
   "source": [
    "count_selected_articles = {'arts': 0, 'sports': 0, 'business': 0, 'politics': 0}\n",
    "selected_downloaded_articles = []\n",
    "\n",
    "for article in downloaded_articles:\n",
    "    if abs(article['word_count'] - len(article['text'].split(' '))) <= 100:\n",
    "        count_selected_articles[article['category']] += 1\n",
    "        selected_downloaded_articles.append(article)\n",
    "print(count_selected_articles)"
   ]
  },
  {
   "cell_type": "markdown",
   "metadata": {},
   "source": [
    "Проверяем корректность скаченного:"
   ]
  },
  {
   "cell_type": "code",
   "execution_count": null,
   "metadata": {},
   "outputs": [
    {
     "data": {
      "text/plain": [
       "('https://www.nytimes.com/2020/09/29/arts/music/youngboy-never-broke-again-arrested.html',\n",
       " 'Last week the rapper YoungBoy Never Broke Again notched his third No. 1 album in a year. This week he is under arrest. YoungBoy, whose real name is Kentrell Gaulden, was arrested on Monday in Baton Rouge, La., his hometown. According to the Baton Rouge Police Department, he was detained on three drug charges and three weapons charges, including possession of a stolen firearm, and felon in possession of a firearm. The rapper was one of 16 people arrested on drug and firearm charges after the police and the FBI “received information from anonymous concerned citizens” about people brandishing guns at an abandoned lot in Baton Rouge, the police said in a news release. According to that announcement, the police seized 14 guns, $79,000 in cash and an unspecified amount of drugs. YoungBoy was processed early Tuesday by the East Baton Rouge Sheriff’s Office and remained in custody as of Tuesday afternoon. “Kentrell Gaulden is innocent of the crimes he was arrested for yesterday evening,” the rapper’s lawyer, James P. Manasseh, said in a statement. “He did not possess any firearms nor did he possess any controlled dangerous substances. Law enforcement arrived on scene without any evidence of a crime occurring and immediately detained 15-20 young Black men solely based on an alleged tip that firearms were present on the scene.” YoungBoy, 20, who has had a rapid rise on the charts — and is one of the most popular musicians on YouTube — has been dogged for years by legal problems. In 2017, at age 17, he pleaded guilty to aggravated assault with a firearm. Last year, YoungBoy was arrested after a shootout in Florida and sentenced to 90 days in jail. As part of his probation, he was ordered not to give any performances for 14 months, but in December a Louisiana judge ended his probation early. ')"
      ]
     },
     "execution_count": null,
     "metadata": {},
     "output_type": "execute_result"
    }
   ],
   "source": [
    "i = np.random.randint(0, 4000)\n",
    "selected_downloaded_articles[i]['web_url'], selected_downloaded_articles[i]['text']"
   ]
  },
  {
   "cell_type": "code",
   "execution_count": null,
   "metadata": {},
   "outputs": [
    {
     "data": {
      "text/plain": [
       "('https://www.nytimes.com/2020/09/14/arts/national-museum-african-american-history-culture-reopening.html',\n",
       " 'The National Museum of African American History and Culture in Washington will reopen to the public on Friday — one of four Smithsonian Institution museums that are involved in the latest phase of reopening, the Smithsonian announced on Monday. For the museum, which is dedicated to telling the African-American story for all Americans, the reopening comes just a few months after new developments began to unfold in the nation’s history. The museum was closed in March amid by the pandemic, and since then the nation has erupted in social justice protests addressing racism and police violence after George Floyd was killed in police custody in May. The protests will give the museum a new chapter in its narrative. “It is definitely a changed America,” said Lonnie G. Bunch III, the Secretary of the Smithsonian who was the founding director of the museum. “Its role is still the same, which is to give the world a place where it can confront uncomfortable truths and maybe find some hope.” He said that cultural institutions have a greater role to play in the current historical moment, helping people find beauty and understanding. “But what they have really got to do is help people find hope, which is what the African American Museum does, because the story it tells is the notion that America can be made better,” Mr. Bunch said in an interview. To eventually be able to tell the story of the last several months, the Smithsonian’s curators have begun collecting the art, signs, photographs and other artifacts that multiplied during the protests, including items from protesters at Lafayette Square near the White House. Those objects will not be not ready for display when the museum reopens, but it is offering some online initiatives that deal with recent events, including an online project, “Voices of Resistance and Hope,” that encourages people to share their responses to the rising of the Black Lives Matter movement and their experiences coping with the coronavirus pandemic. All four museums — the others are the Smithsonian American Art Museum, the National Portrait Gallery and the Renwick Gallery of the American Art Museum — will be reopening with health and safety measures, including reduced days or hours of operation, mandatory face coverings for visitors over 6 years old and timed-entry ticketing. The African American Museum said it would initially limit the number of passes to 250 a day but that the number would increase to 1,100 a day in the third week of reopening. There will be one-way paths and directional guidance for social distancing in the museums, as well as hand-sanitizing stations. Museum cafes and retail shops will not be open. Like other museums across the country, the Smithsonian outposts, including the National Zoo, closed to the public as the pandemic struck. They are now reopening in phases. The National Zoo and a part of the National Air and Space Museum opened in July, and the sculpture garden at the Hirshhorn opened in August. ')"
      ]
     },
     "execution_count": null,
     "metadata": {},
     "output_type": "execute_result"
    }
   ],
   "source": [
    "i = np.random.randint(0, 4000)\n",
    "selected_downloaded_articles[i]['web_url'], selected_downloaded_articles[i]['text']"
   ]
  },
  {
   "cell_type": "code",
   "execution_count": null,
   "metadata": {},
   "outputs": [
    {
     "data": {
      "text/plain": [
       "('https://www.nytimes.com/2020/10/01/business/plenty-of-work-for-homebuilders-but-few-commercial-construction-jobs.html',\n",
       " 'Home construction workers, whose livelihoods were on the line as the economy collapsed in the spring, are benefiting from a newly resurgent housing market, while builders of commercial and retail properties struggle. About 40 percent of construction workers are in the residential sector, while 60 percent are in the nonresidential field, according to Ken Simonson, chief economist of the Associated General Contractors of America, a trade group. Mr. Simonson’s group represents the nonresidential part of the business, which has been hard hit by empty office buildings and stores. “The outlook is fairly bleak for nonresidential construction,” he said. “New residential construction is terrific, specifically single family homes.” After plunging in the spring, employment in residential construction rose 2.1 percent from June to August, while nonresidential jobs declined 0.4 percent, the contractors’ group said. One exception to the trend is construction of distribution centers, which is being driven by the boom in e-commerce that has accompanied the pandemic. Construction employment was 7.2 million in August, the latest month for which figures from the Bureau of Labor Statistics are available. That was a decline of 425,000 from February. The National Association of Realtors reported Wednesday that its index of pending home sales rose 8.8 percent in August, reaching a record high, as rock-bottom mortgage rates and a desire to escape crowded cities for suburban and exurban areas fed demand. “Even before the pandemic, we had a housing shortage and one of the factors was a shortage of skilled construction workers,” said Lawrence Yun, the trade group’s chief economist. “The residential sector is booming.” ')"
      ]
     },
     "execution_count": null,
     "metadata": {},
     "output_type": "execute_result"
    }
   ],
   "source": [
    "i = np.random.randint(0, 4000)\n",
    "selected_downloaded_articles[i]['web_url'], selected_downloaded_articles[i]['text']"
   ]
  },
  {
   "cell_type": "markdown",
   "metadata": {},
   "source": [
    "Сохраняем в файл:"
   ]
  },
  {
   "cell_type": "code",
   "execution_count": null,
   "metadata": {},
   "outputs": [],
   "source": [
    "all_articles = []\n",
    "\n",
    "for downloaded_article in selected_downloaded_articles:\n",
    "    article_for_save = {}\n",
    "    article_for_save['article_id'] = downloaded_article['web_url']\n",
    "    article_for_save['title'] = downloaded_article['headline']['main']\n",
    "    article_for_save['category'] = downloaded_article['category']\n",
    "    article_for_save['tags'] = downloaded_article['keywords']\n",
    "    article_for_save['abstract'] = downloaded_article['abstract']\n",
    "    article_for_save['text'] = downloaded_article['text']\n",
    "    all_articles.append(article_for_save)\n",
    "\n",
    "with open('catalog.json', 'a', encoding='utf8') as outfile:\n",
    "    json.dump({ 'catalog' : all_articles }, outfile, ensure_ascii=False)"
   ]
  },
  {
   "cell_type": "markdown",
   "metadata": {},
   "source": [
    "<br/>"
   ]
  }
 ],
 "metadata": {
  "kernelspec": {
   "display_name": "Python 3",
   "language": "python",
   "name": "python3"
  },
  "language_info": {
   "codemirror_mode": {
    "name": "ipython",
    "version": 3
   },
   "file_extension": ".py",
   "mimetype": "text/x-python",
   "name": "python",
   "nbconvert_exporter": "python",
   "pygments_lexer": "ipython3",
   "version": "3.8.5"
  }
 },
 "nbformat": 4,
 "nbformat_minor": 4
}
